{
 "cells": [
  {
   "cell_type": "code",
   "execution_count": 5,
   "metadata": {},
   "outputs": [],
   "source": [
    "import pandas as pd\n",
    "import numpy as np\n",
    "\n",
    "path = '/Users/zeouwei/OneDrive/compleglab 2/data/us_data'\n",
    "bills_actions = pd.read_csv(path + '/scraped/bills_actions/bills_actions.csv', low_memory=False)"
   ]
  },
  {
   "cell_type": "code",
   "execution_count": 6,
   "metadata": {},
   "outputs": [],
   "source": [
    "bills_actions['main_action'] = ''\n",
    "bills_actions['object'] = ''\n",
    "bills_actions['vote_type'] = ''\n",
    "bills_actions['result'] = ''\n",
    "bills_actions['vote_split'] = ''\n",
    "bills_actions['proponent'] = ''\n",
    "bills_actions['amendment_number'] = ''\n",
    "bills_actions['final_vote'] = ''\n",
    "bills_actions['postponed_object'] = ''\n",
    "\n",
    "new_columns = ['main_action', 'object', 'vote_type', 'result', 'vote_split', 'proponent', 'amendment_number']"
   ]
  },
  {
   "cell_type": "code",
   "execution_count": 7,
   "metadata": {},
   "outputs": [],
   "source": [
    "def create_action_object(condition, action):\n",
    "        bills = {'H.R.':'house bill', 'S.':'senate bill', 'H.J.Res.':'house joint resolution', 'S.J.Res.':'senate joint resolution', \n",
    "        'H.Con.Res.':'house concurrent resolution', 'S.Con.Res.':'senate concurrent resolution', 'H.Res.':'house resolution', 'S.Res.':'senate resolution'}\n",
    "\n",
    "        for b in range(len(bills)):\n",
    "                bills_actions.loc[condition & (bills_actions['bill_number'].str.contains(list(bills.keys())[b])), new_columns[0:2]] = [action, list(bills.values())[b]]"
   ]
  },
  {
   "cell_type": "code",
   "execution_count": 8,
   "metadata": {},
   "outputs": [],
   "source": [
    "tp = bills_actions.loc[(bills_actions['action'].str.contains('Yea-Nay', case=False)) & \n",
    "                      ~(bills_actions['action'].str.contains('Yea-Nay Vote', case=False)), 'action'].copy()\n",
    "\n",
    "bills_actions.loc[(bills_actions['action'].str.contains('Yea-Nay', case=False)) & \n",
    "                      ~(bills_actions['action'].str.contains('Yea-Nay Vote', case=False)), 'vote_split'] = tp.str.split('Yea-Nay', expand=True)[1].str.split('Record', expand=True)[0].str.replace(' ','', regex=True).str.replace('.','', regex=True)"
   ]
  },
  {
   "cell_type": "code",
   "execution_count": 9,
   "metadata": {},
   "outputs": [],
   "source": [
    "tp = bills_actions.loc[(bills_actions['action'].str.contains('by Yea-Nay Vote', case=False)), 'action'].copy()\n",
    "\n",
    "bills_actions.loc[(bills_actions['action'].str.contains('by Yea-Nay Vote', case=False)), 'vote_split'] = tp.str.split('Yea-Nay Vote', expand=True)[1].str.split('. Record', expand=True)[0].str.replace(' ','', regex=True).str.replace('.','', regex=True)"
   ]
  },
  {
   "cell_type": "code",
   "execution_count": 10,
   "metadata": {},
   "outputs": [],
   "source": [
    "tp = bills_actions.loc[(bills_actions['action'].str.contains('Yeas and Nays:', case=False)) & \n",
    "                       ~(bills_actions['action'].str.contains('Roll no', case=False)), 'action'].copy()\n",
    "\n",
    "bills_actions.loc[(bills_actions['action'].str.contains('Yeas and Nays:', case=False)) & \n",
    "                       ~(bills_actions['action'].str.contains('Roll no', case=False)), 'vote_split'] = tp.str.split('Nays:', expand=True)[1].str.split('.', expand=True)[0].str.replace(' ','', regex=True).str.replace('.','', regex=True)"
   ]
  },
  {
   "cell_type": "code",
   "execution_count": 11,
   "metadata": {},
   "outputs": [],
   "source": [
    "tp = bills_actions.loc[(bills_actions['action'].str.contains('Yeas and Nays', case=False)) & \n",
    "                       (bills_actions['action'].str.contains('required', case=False)) & \n",
    "                       (bills_actions['action'].str.contains('Present')), 'action'].copy()\n",
    "\n",
    "bills_actions.loc[(bills_actions['action'].str.contains('Yeas and Nays', case=False)) & \n",
    "                       (bills_actions['action'].str.contains('required', case=False)) & \n",
    "                       (bills_actions['action'].str.contains('Present')), 'vote_split'] = tp.str.split('required', expand=True)[1].str.split(',', expand=True)[0].str.replace(' ','', regex=True).str.replace(':','', regex=True).str.replace(')','', regex=True)"
   ]
  },
  {
   "cell_type": "code",
   "execution_count": 12,
   "metadata": {},
   "outputs": [],
   "source": [
    "tp = bills_actions.loc[(bills_actions['action'].str.contains('Yeas and Nays', case=False)) & \n",
    "                       (bills_actions['action'].str.contains('required', case=False)) & \n",
    "                       ~(bills_actions['action'].str.contains('Present')), 'action'].copy()\n",
    "\n",
    "bills_actions.loc[(bills_actions['action'].str.contains('Yeas and Nays', case=False)) & \n",
    "                       (bills_actions['action'].str.contains('required', case=False)) & \n",
    "                       ~(bills_actions['action'].str.contains('Present')), 'vote_split'] = tp.str.split('required', expand=True)[1].str.split('(', expand=True)[0].str.replace(' ','', regex=True).str.replace(':','', regex=True).str.replace(')','', regex=True)"
   ]
  },
  {
   "cell_type": "code",
   "execution_count": 13,
   "metadata": {},
   "outputs": [],
   "source": [
    "tp = bills_actions.loc[(bills_actions['action'].str.contains('Yeas and Nays', case=False)) & \n",
    "                       ~(bills_actions['action'].str.contains('required', case=False)) & \n",
    "                       (bills_actions['action'].str.contains('roll no', case=False)) & \n",
    "                       (bills_actions['action'].str.contains('Present')), 'action'].copy()\n",
    "\n",
    "bills_actions.loc[(bills_actions['action'].str.contains('Yeas and Nays', case=False)) & \n",
    "                       ~(bills_actions['action'].str.contains('required', case=False)) & \n",
    "                       (bills_actions['action'].str.contains('roll no', case=False)) & \n",
    "                       (bills_actions['action'].str.contains('Present')), 'vote_split'] = tp.str.split('Nays:', expand=True)[1].str.split(',', expand=True)[0].str.replace(' ','', regex=True)"
   ]
  },
  {
   "cell_type": "code",
   "execution_count": 14,
   "metadata": {},
   "outputs": [],
   "source": [
    "tp = bills_actions.loc[(bills_actions['action'].str.contains('Yeas and Nays', case=False)) & \n",
    "                       ~(bills_actions['action'].str.contains('required', case=False)) & \n",
    "                       (bills_actions['action'].str.contains('roll no', case=False)) & \n",
    "                       ~(bills_actions['action'].str.contains('Present')), 'action'].copy()\n",
    "\n",
    "bills_actions.loc[(bills_actions['action'].str.contains('Yeas and Nays', case=False)) & \n",
    "                       ~(bills_actions['action'].str.contains('required', case=False)) & \n",
    "                       (bills_actions['action'].str.contains('roll no', case=False)) & \n",
    "                       ~(bills_actions['action'].str.contains('Present')), 'vote_split'] = tp.str.split('Nays:', expand=True)[1].str.split('(', expand=True)[0].str.replace(' ','', regex=True)"
   ]
  },
  {
   "cell_type": "code",
   "execution_count": 15,
   "metadata": {},
   "outputs": [],
   "source": [
    "tp = bills_actions.loc[(bills_actions['action'].str.contains('recorded vote', case=False)) & \n",
    "                       (bills_actions['action'].str.contains('required', case=False)) & \n",
    "                       (bills_actions['action'].str.contains('Present')), 'action'].copy()\n",
    "\n",
    "bills_actions.loc[(bills_actions['action'].str.contains('recorded vote', case=False)) & \n",
    "                       (bills_actions['action'].str.contains('required', case=False)) & \n",
    "                       (bills_actions['action'].str.contains('Present')), 'vote_split'] = tp.str.split('required', expand=True)[1].str.split(',', expand=True)[0].str.replace(' ','', regex=True).str.replace(')','', regex=True).str.replace(':','', regex=True)"
   ]
  },
  {
   "cell_type": "code",
   "execution_count": 16,
   "metadata": {},
   "outputs": [],
   "source": [
    "tp = bills_actions.loc[(bills_actions['action'].str.contains('recorded vote', case=False)) & \n",
    "                       (bills_actions['action'].str.contains('required', case=False)) & \n",
    "                      ~(bills_actions['action'].str.contains('Present')), 'action'].copy()\n",
    "\n",
    "bills_actions.loc[(bills_actions['action'].str.contains('recorded vote', case=False)) & \n",
    "                       (bills_actions['action'].str.contains('required', case=False)) & \n",
    "                      ~(bills_actions['action'].str.contains('Present')), 'vote_split'] = tp.str.split('required', expand=True)[1].str.split('(', expand=True)[0].str.replace(' ','', regex=True).str.replace(')','', regex=True).str.replace(':','', regex=True)"
   ]
  },
  {
   "cell_type": "code",
   "execution_count": 17,
   "metadata": {},
   "outputs": [],
   "source": [
    "tp = bills_actions.loc[(bills_actions['action'].str.contains('recorded vote:', case=False)) & \n",
    "                      ~(bills_actions['action'].str.contains('required', case=False)) & \n",
    "                      (bills_actions['action'].str.contains('Present')), 'action'].copy()\n",
    "\n",
    "bills_actions.loc[(bills_actions['action'].str.contains('recorded vote:', case=False)) & \n",
    "                      ~(bills_actions['action'].str.contains('required', case=False)) & \n",
    "                      (bills_actions['action'].str.contains('Present')), 'vote_split'] = tp.str.split('recorded vote', expand=True)[1].str.split(',', expand=True)[0].str.replace(' ','', regex=True).str.replace(':','', regex=True)"
   ]
  },
  {
   "cell_type": "code",
   "execution_count": 18,
   "metadata": {},
   "outputs": [],
   "source": [
    "tp = bills_actions.loc[(bills_actions['action'].str.contains('recorded vote:', case=False)) & \n",
    "                      ~(bills_actions['action'].str.contains('required', case=False)) & \n",
    "                      ~(bills_actions['action'].str.contains('Present')), 'action'].copy()\n",
    "\n",
    "bills_actions.loc[(bills_actions['action'].str.contains('recorded vote:', case=False)) & \n",
    "                      ~(bills_actions['action'].str.contains('required', case=False)) & \n",
    "                      ~(bills_actions['action'].str.contains('Present')), 'vote_split'] = tp.str.split('recorded vote', expand=True)[1].str.split('(', expand=True)[0].str.replace(' ','', regex=True).str.replace(':','', regex=True)"
   ]
  },
  {
   "cell_type": "code",
   "execution_count": 19,
   "metadata": {},
   "outputs": [],
   "source": [
    "tp = bills_actions.loc[(bills_actions['action'].str.contains('Amdt.')), 'action'].copy()\n",
    "\n",
    "bills_actions.loc[(bills_actions['action'].str.contains('Amdt.')), 'amendment_number'] = tp.str.split('Amdt.', expand=True)[1].str.split(' ', expand=True)[0]"
   ]
  },
  {
   "cell_type": "code",
   "execution_count": 20,
   "metadata": {},
   "outputs": [],
   "source": [
    "tp = bills_actions.loc[(bills_actions['action'].str.contains('SP ')) & \n",
    "                       ~(bills_actions['action'].str.contains('Amdt.')), 'action'].copy()\n",
    "\n",
    "bills_actions.loc[(bills_actions['action'].str.contains('SP ')) & \n",
    "                       ~(bills_actions['action'].str.contains('Amdt.')), 'amendment_number'] = tp.str.split('SP', expand=True)[1].str.split(' ', expand=True)[1]"
   ]
  },
  {
   "cell_type": "code",
   "execution_count": 21,
   "metadata": {},
   "outputs": [],
   "source": [
    "tp = bills_actions.loc[(bills_actions['action'].str.contains('SP')) & \n",
    "                 ~(bills_actions['action'].str.contains('SP ')) & \n",
    "                 ~(bills_actions['action'].str.contains('Amdt.')) & \n",
    "                 ~((bills_actions['action'].str.contains('SPONSOR')) | \n",
    "                 (bills_actions['action'].str.contains('POSPONED')) | \n",
    "                 (bills_actions['action'].str.contains('SUSPENSION')) | \n",
    "                 (bills_actions['action'].str.contains('SPECIAL')) | \n",
    "                 (bills_actions['action'].str.contains('DISPOSITION')) | \n",
    "                 (bills_actions['action'].str.contains('SPENCE')) | \n",
    "                 (bills_actions['action'].str.contains('SPECIFIED')) | \n",
    "                 (bills_actions['action'].str.contains('SUSPEND')) | \n",
    "                 (bills_actions['action'].str.contains('SPEAKING')) | \n",
    "                 (bills_actions['action'].str.contains('PROCEEDINGS'))), 'action'].copy()\n",
    "\n",
    "bills_actions.loc[(bills_actions['action'].str.contains('SP')) & \n",
    "                 ~(bills_actions['action'].str.contains('SP ')) & \n",
    "                 ~(bills_actions['action'].str.contains('Amdt.')) & \n",
    "                 ~((bills_actions['action'].str.contains('SPONSOR')) | \n",
    "                 (bills_actions['action'].str.contains('POSPONED')) | \n",
    "                 (bills_actions['action'].str.contains('SUSPENSION')) | \n",
    "                 (bills_actions['action'].str.contains('SPECIAL')) | \n",
    "                 (bills_actions['action'].str.contains('DISPOSITION')) | \n",
    "                 (bills_actions['action'].str.contains('SPENCE')) | \n",
    "                 (bills_actions['action'].str.contains('SPECIFIED')) | \n",
    "                 (bills_actions['action'].str.contains('SUSPEND')) | \n",
    "                 (bills_actions['action'].str.contains('SPEAKING')) | \n",
    "                 (bills_actions['action'].str.contains('PROCEEDINGS'))), 'amendment_number'] = tp.str.split('SP', expand=True)[1].str.split(' ', expand=True)[0]"
   ]
  },
  {
   "cell_type": "code",
   "execution_count": 22,
   "metadata": {},
   "outputs": [],
   "source": [
    "bills_actions.loc[(bills_actions['action'].str.contains('1424previously agreed')) & \n",
    "                       ~(bills_actions['action'].str.contains('Amdt.')), 'amendment_number'] = '1424'"
   ]
  },
  {
   "cell_type": "code",
   "execution_count": 23,
   "metadata": {},
   "outputs": [],
   "source": [
    "tp = bills_actions.loc[(bills_actions['action'].str.contains('SA ')) & \n",
    "                       ~(bills_actions['action'].str.contains('Amdt.')) & \n",
    "                       ~((bills_actions['action'].str.contains('NNSA')) | \n",
    "                       (bills_actions['action'].str.contains('NSA')) | \n",
    "                       (bills_actions['action'].str.contains('USA')) | \n",
    "                       (bills_actions['action'].str.contains('GSA')) | \n",
    "                       (bills_actions['action'].str.contains('NASA'))), 'action'].copy()\n",
    "\n",
    "bills_actions.loc[(bills_actions['action'].str.contains('SA ')) & \n",
    "                       ~(bills_actions['action'].str.contains('Amdt.')) & \n",
    "                       ~((bills_actions['action'].str.contains('NNSA')) | \n",
    "                       (bills_actions['action'].str.contains('NSA')) | \n",
    "                       (bills_actions['action'].str.contains('USA')) | \n",
    "                       (bills_actions['action'].str.contains('GSA')) | \n",
    "                       (bills_actions['action'].str.contains('NASA'))), 'amendment_number'] = tp.str.split('SA', expand=True)[1].str.split(' ', expand=True)[1]"
   ]
  },
  {
   "cell_type": "code",
   "execution_count": 24,
   "metadata": {},
   "outputs": [],
   "source": [
    "tp = bills_actions.loc[(bills_actions['action'].str.contains('SA3874')) |\n",
    "                       (bills_actions['action'].str.contains('SA4314')) |\n",
    "                       (bills_actions['action'].str.contains('SA1872')) |\n",
    "                       (bills_actions['action'].str.contains('SA2880')) |\n",
    "                       (bills_actions['action'].str.contains('SA5292')) |\n",
    "                       (bills_actions['action'].str.contains('SA4102')) |\n",
    "                       (bills_actions['action'].str.contains('SA3312')), 'action'].copy()\n",
    "\n",
    "bills_actions.loc[(bills_actions['action'].str.contains('SA3874')) |\n",
    "                       (bills_actions['action'].str.contains('SA4314')) |\n",
    "                       (bills_actions['action'].str.contains('SA1872')) |\n",
    "                       (bills_actions['action'].str.contains('SA2880')) |\n",
    "                       (bills_actions['action'].str.contains('SA5292')) |\n",
    "                       (bills_actions['action'].str.contains('SA4102')) |\n",
    "                       (bills_actions['action'].str.contains('SA3312')), 'amendment_number'] = tp.str.split('SA', expand=True)[1].str.split(' ', expand=True)[0]"
   ]
  },
  {
   "cell_type": "code",
   "execution_count": 25,
   "metadata": {},
   "outputs": [],
   "source": [
    "tp = bills_actions.loc[(bills_actions['action'].str.contains('by Senator')), 'action'].copy()\n",
    "\n",
    "bills_actions.loc[(bills_actions['action'].str.contains('by Senator')), 'proponent'] = tp.str.split('by Senator', expand=True)[1].str.split(' ', expand=True)[1].str.replace(' ','', regex=True).str.replace('.','', regex=True)"
   ]
  },
  {
   "cell_type": "code",
   "execution_count": 26,
   "metadata": {},
   "outputs": [],
   "source": [
    "tp = bills_actions.loc[(bills_actions['action'].str.contains('By Senator')), 'action'].copy()\n",
    "\n",
    "bills_actions.loc[(bills_actions['action'].str.contains('By Senator')), 'proponent'] = tp.str.split('By Senator', expand=True)[1].str.split(' ', expand=True)[1].str.replace(' ','', regex=True).str.replace('.','', regex=True)"
   ]
  },
  {
   "cell_type": "code",
   "execution_count": 27,
   "metadata": {},
   "outputs": [],
   "source": [
    "tp = bills_actions.loc[(bills_actions['action'].str.contains('Mr')) & \n",
    "                  (bills_actions['proponent']==''), 'action'].copy()\n",
    "\n",
    "bills_actions.loc[(bills_actions['action'].str.contains('Mr')) & \n",
    "                  (bills_actions['proponent']==''), 'proponent'] = tp.str.split('Mr.', expand=True)[1].str.split(' ', expand=True)[1].str.replace(' ','', regex=True).str.replace('.','', regex=True).str.replace(',','', regex=True)"
   ]
  },
  {
   "cell_type": "code",
   "execution_count": 28,
   "metadata": {},
   "outputs": [],
   "source": [
    "tp = bills_actions.loc[(bills_actions['action'].str.contains('Ms')) & \n",
    "                  (bills_actions['proponent']==''), 'action'].copy()\n",
    "\n",
    "bills_actions.loc[(bills_actions['action'].str.contains('Ms')) & \n",
    "                  (bills_actions['proponent']==''), 'proponent'] = tp.str.split('Ms.', expand=True)[1].str.split(' ', expand=True)[1].str.replace(' ','', regex=True).str.replace('.','', regex=True).str.replace(',','', regex=True)"
   ]
  },
  {
   "cell_type": "code",
   "execution_count": 29,
   "metadata": {},
   "outputs": [],
   "source": [
    "tp = bills_actions.loc[(bills_actions['action'].str.contains('senator',case=False)) & \n",
    "                  ~(bills_actions['action'].str.contains('DEBATE')) & \n",
    "                  (bills_actions['proponent']==''), 'action'].copy()\n",
    "\n",
    "bills_actions.loc[(bills_actions['action'].str.contains('senator',case=False)) & \n",
    "                  ~(bills_actions['action'].str.contains('DEBATE')) & \n",
    "                  (bills_actions['proponent']==''), 'proponent'] = tp.str.split('Senator', expand=True)[1].str.split(' ', expand=True)[1].str.replace(' ','', regex=True).str.replace('.','', regex=True)"
   ]
  },
  {
   "cell_type": "code",
   "execution_count": 30,
   "metadata": {},
   "outputs": [],
   "source": [
    "bills_actions.loc[(bills_actions['action'].str.contains('yea',case=False)) & \n",
    "                    ((bills_actions['action'].str.contains('not invoked',case=False)) | \n",
    "                    (bills_actions['action'].str.contains('not agreed',case=False)) | \n",
    "                    (bills_actions['action'].str.contains('not tabled',case=False)) | \n",
    "                    (bills_actions['action'].str.contains('not guilty',case=False)) | \n",
    "                    (bills_actions['action'].str.contains('not well taken',case=False)) | \n",
    "                    (bills_actions['action'].str.contains('failed',case=False)) | \n",
    "                    (bills_actions['action'].str.contains('rejected',case=False))) & \n",
    "                    (bills_actions['vote_split']!=''), new_columns[2:4]] = ['yeas and nays', 'failed']"
   ]
  },
  {
   "cell_type": "code",
   "execution_count": 31,
   "metadata": {},
   "outputs": [],
   "source": [
    "bills_actions.loc[(bills_actions['action'].str.contains('yea',case=False)) & \n",
    "                    (bills_actions['vote_split']!='') & \n",
    "                    (bills_actions['vote_type']==''), new_columns[2:4]] = ['yeas and nays', 'agreed']"
   ]
  },
  {
   "cell_type": "code",
   "execution_count": 32,
   "metadata": {},
   "outputs": [],
   "source": [
    "bills_actions.loc[(bills_actions['action'].str.contains('recorded vote',case=False)) & \n",
    "                    ((bills_actions['action'].str.contains('not invoked',case=False)) | \n",
    "                    (bills_actions['action'].str.contains('not agreed',case=False)) | \n",
    "                    (bills_actions['action'].str.contains('not tabled',case=False)) | \n",
    "                    (bills_actions['action'].str.contains('not guilty',case=False)) | \n",
    "                    (bills_actions['action'].str.contains('not well taken',case=False)) | \n",
    "                    (bills_actions['action'].str.contains('failed',case=False)) | \n",
    "                    (bills_actions['action'].str.contains('rejected',case=False))) & \n",
    "                    (bills_actions['vote_split']!=''), new_columns[2:4]] = ['recorded vote', 'failed']"
   ]
  },
  {
   "cell_type": "code",
   "execution_count": 33,
   "metadata": {},
   "outputs": [],
   "source": [
    "bills_actions.loc[(bills_actions['action'].str.contains('recorded vote',case=False)) & \n",
    "                    (bills_actions['vote_split']!='') & \n",
    "                    (bills_actions['vote_type']==''), new_columns[2:4]] = ['recorded vote', 'agreed']"
   ]
  },
  {
   "cell_type": "code",
   "execution_count": 34,
   "metadata": {},
   "outputs": [],
   "source": [
    "bills_actions.loc[(bills_actions['action'].str.contains('by voice vote',case=False)) & \n",
    "                    ((bills_actions['action'].str.contains('not invoked',case=False)) | \n",
    "                    (bills_actions['action'].str.contains('not agreed',case=False)) | \n",
    "                    (bills_actions['action'].str.contains('not tabled',case=False)) | \n",
    "                    (bills_actions['action'].str.contains('not guilty',case=False)) | \n",
    "                    (bills_actions['action'].str.contains('not well taken',case=False)) | \n",
    "                    (bills_actions['action'].str.contains('failed',case=False)) | \n",
    "                    (bills_actions['action'].str.contains('rejected',case=False)) | \n",
    "                     (bills_actions['action'].str.contains('vitiated',case=False)) | \n",
    "                     (bills_actions['action'].str.contains('defeated',case=False))), new_columns[2:4]] = ['voice vote', 'failed']"
   ]
  },
  {
   "cell_type": "code",
   "execution_count": 35,
   "metadata": {},
   "outputs": [],
   "source": [
    "bills_actions.loc[(bills_actions['action'].str.contains('by voice vote',case=False)) & \n",
    "                    ~((bills_actions['action'].str.contains('not invoked',case=False)) | \n",
    "                    (bills_actions['action'].str.contains('not agreed',case=False)) | \n",
    "                    (bills_actions['action'].str.contains('not tabled',case=False)) | \n",
    "                    (bills_actions['action'].str.contains('not guilty',case=False)) | \n",
    "                    (bills_actions['action'].str.contains('not well taken',case=False)) | \n",
    "                    (bills_actions['action'].str.contains('failed',case=False)) | \n",
    "                    (bills_actions['action'].str.contains('rejected',case=False)) | \n",
    "                     (bills_actions['action'].str.contains('vitiated',case=False)) | \n",
    "                     (bills_actions['action'].str.contains('defeated',case=False))), new_columns[2:4]] = ['voice vote', 'agreed']"
   ]
  },
  {
   "cell_type": "code",
   "execution_count": 36,
   "metadata": {},
   "outputs": [],
   "source": [
    "bills_actions.loc[((bills_actions['action'].str.contains('yeas',case=False)) | \n",
    "                  (bills_actions['action'].str.contains('Yea'))) & \n",
    "                  (bills_actions['action'].str.contains('voice',case=False)), new_columns[2:5]] = ['voice vote', 'agreed', 'requested yeas and nays']"
   ]
  },
  {
   "cell_type": "code",
   "execution_count": 37,
   "metadata": {},
   "outputs": [],
   "source": [
    "bills_actions.loc[(bills_actions['action'].str.contains('recorded vote',case=False)) & \n",
    "                  (bills_actions['action'].str.contains('voice',case=False)), new_columns[2:5]] = ['voice vote', 'agreed', 'requested recorded vote']"
   ]
  },
  {
   "cell_type": "code",
   "execution_count": 38,
   "metadata": {},
   "outputs": [],
   "source": [
    "bills_actions.loc[(bills_actions['action'].str.contains('without objection',case=False)), new_columns[2:4]] = ['without objection', 'agreed']"
   ]
  },
  {
   "cell_type": "code",
   "execution_count": 39,
   "metadata": {},
   "outputs": [],
   "source": [
    "bills_actions.loc[(bills_actions['action'].str.contains('by unanimous consent',case=False)) & \n",
    "                    ~(bills_actions['vote_type']=='voice vote'), new_columns[2:4]] = ['unanimous consent', 'agreed']"
   ]
  },
  {
   "cell_type": "code",
   "execution_count": 40,
   "metadata": {},
   "outputs": [],
   "source": [
    "condition = ((bills_actions['action'].str.contains('introduced in house', case=False)))\n",
    "\n",
    "create_action_object(condition, 'introduced in house')"
   ]
  },
  {
   "cell_type": "code",
   "execution_count": 41,
   "metadata": {},
   "outputs": [],
   "source": [
    "condition = ((bills_actions['action'].str.contains('referred',case=False)) & \n",
    "                    (bills_actions['action'].str.contains('committee',case=False)) & \n",
    "                    ~(bills_actions['action'].str.contains('subcommittee',case=False)) & \n",
    "                    ((bills_actions['action'].str.contains('senate',case=False)) | \n",
    "                    (bills_actions['bill_chamber']=='Senate') | \n",
    "                    (bills_actions['amendment_number']!='')))\n",
    "\n",
    "create_action_object(condition, 'referred to senate committee')"
   ]
  },
  {
   "cell_type": "code",
   "execution_count": 42,
   "metadata": {},
   "outputs": [],
   "source": [
    "condition = ((bills_actions['action'].str.contains('referred',case=False)) & \n",
    "                    (bills_actions['action'].str.contains('committee',case=False)) & \n",
    "                    ~(bills_actions['action'].str.contains('subcommittee',case=False)) & \n",
    "                    ~((bills_actions['action'].str.contains('senate',case=False)) | \n",
    "                    (bills_actions['bill_chamber']=='Senate') | \n",
    "                    (bills_actions['amendment_number']!='')))\n",
    "\n",
    "create_action_object(condition, 'referred to house committee')"
   ]
  },
  {
   "cell_type": "code",
   "execution_count": 43,
   "metadata": {},
   "outputs": [],
   "source": [
    "condition = ((bills_actions['action'].str.contains('referred',case=False)) & \n",
    "                    (bills_actions['action'].str.contains('subcommittee',case=False)) & \n",
    "                    ((bills_actions['action'].str.contains('senate',case=False)) | \n",
    "                    (bills_actions['bill_chamber']=='Senate') | \n",
    "                    (bills_actions['amendment_number']!='')))\n",
    "\n",
    "create_action_object(condition, 'referred to senate subcommittee')"
   ]
  },
  {
   "cell_type": "code",
   "execution_count": 44,
   "metadata": {},
   "outputs": [],
   "source": [
    "condition = ((bills_actions['action'].str.contains('referred',case=False)) & \n",
    "                    (bills_actions['action'].str.contains('subcommittee',case=False)) & \n",
    "                    ~((bills_actions['action'].str.contains('senate',case=False)) | \n",
    "                    (bills_actions['bill_chamber']=='Senate') | \n",
    "                    (bills_actions['amendment_number']!='')))\n",
    "\n",
    "create_action_object(condition, 'referred to house subcommittee')"
   ]
  },
  {
   "cell_type": "code",
   "execution_count": 45,
   "metadata": {},
   "outputs": [],
   "source": [
    "condition = ((bills_actions['action'].str.contains('introduced in the senate', case=False)))\n",
    "\n",
    "create_action_object(condition, 'introduced in senate')"
   ]
  },
  {
   "cell_type": "code",
   "execution_count": 46,
   "metadata": {},
   "outputs": [],
   "source": [
    "condition = ((bills_actions['action'].str.contains('hearing',case=False)) & \n",
    "                    (bills_actions['action'].str.contains('committee',case=False)) & \n",
    "                    ~(bills_actions['action'].str.contains('referred to',case=False)) & \n",
    "                    ((bills_actions['action'].str.contains('senate',case=False)) | \n",
    "                    (bills_actions['bill_chamber']=='Senate')))\n",
    "\n",
    "create_action_object(condition, 'senate committee/subcommittee hearings')"
   ]
  },
  {
   "cell_type": "code",
   "execution_count": 47,
   "metadata": {},
   "outputs": [],
   "source": [
    "condition = ((bills_actions['action'].str.contains('hearing',case=False)) & \n",
    "                    (bills_actions['action'].str.contains('committee',case=False)) & \n",
    "                    ~(bills_actions['action'].str.contains('referred to',case=False)) & \n",
    "                    ~((bills_actions['action'].str.contains('senate',case=False)) | \n",
    "                    (bills_actions['bill_chamber']=='Senate')))\n",
    "\n",
    "create_action_object(condition, 'house committee/subcommittee hearings')"
   ]
  },
  {
   "cell_type": "code",
   "execution_count": 48,
   "metadata": {},
   "outputs": [],
   "source": [
    "condition = (((bills_actions['action'].str.contains('markup',case=False)) | \n",
    "            (bills_actions['action'].str.contains('mark-up',case=False))) & \n",
    "                    (bills_actions['bill_chamber']=='House'))\n",
    "\n",
    "create_action_object(condition, 'house committee/subcommittee markups')"
   ]
  },
  {
   "cell_type": "code",
   "execution_count": 49,
   "metadata": {},
   "outputs": [],
   "source": [
    "condition = (((bills_actions['action'].str.contains('markup',case=False)) | \n",
    "            (bills_actions['action'].str.contains('mark-up',case=False))) & \n",
    "                    ~(bills_actions['bill_chamber']=='House'))\n",
    "\n",
    "create_action_object(condition, 'senate committee/subcommittee markups')"
   ]
  },
  {
   "cell_type": "code",
   "execution_count": 50,
   "metadata": {},
   "outputs": [],
   "source": [
    "condition = ((bills_actions['action'].str.contains('extension',case=False)) & \n",
    "                    (bills_actions['action'].str.contains('committee',case=False)) & \n",
    "                    ~(bills_actions['action'].str.contains('reported to house',case=False)) & \n",
    "                    ~(bills_actions['action'].str.contains('debate',case=False)))\n",
    "\n",
    "create_action_object(condition, 'house committee time extension')"
   ]
  },
  {
   "cell_type": "code",
   "execution_count": 51,
   "metadata": {},
   "outputs": [],
   "source": [
    "condition = ((bills_actions['action'].str.contains('petition',case=False)) & \n",
    "                    (bills_actions['action'].str.contains('filed',case=False)) & \n",
    "                    ~(bills_actions['action'].str.contains('proposed by',case=False)))\n",
    "\n",
    "create_action_object(condition, 'house discharge petition filed')"
   ]
  },
  {
   "cell_type": "code",
   "execution_count": 52,
   "metadata": {},
   "outputs": [],
   "source": [
    "condition = ((bills_actions['action'].str.contains('discharged',case=False)) & \n",
    "                    ~(bills_actions['action'].str.contains('referred',case=False)) & \n",
    "                    ~((bills_actions['action'].str.contains('senate',case=False)) | \n",
    "                    (bills_actions['bill_chamber']=='Senate')))\n",
    "\n",
    "create_action_object(condition, 'house committee discharged')"
   ]
  },
  {
   "cell_type": "code",
   "execution_count": 53,
   "metadata": {},
   "outputs": [],
   "source": [
    "condition = ((bills_actions['action'].str.contains('discharged',case=False)) & \n",
    "                    ~(bills_actions['action'].str.contains('referred',case=False)) & \n",
    "                    ((bills_actions['action'].str.contains('senate',case=False)) | \n",
    "                    (bills_actions['bill_chamber']=='Senate')))\n",
    "\n",
    "create_action_object(condition, 'senate committee discharged')"
   ]
  },
  {
   "cell_type": "code",
   "execution_count": 54,
   "metadata": {},
   "outputs": [],
   "source": [
    "condition = (((bills_actions['action'].str.contains('reported to house',case=False)) | \n",
    "                    (bills_actions['action'].str.contains('reported in house',case=False))))\n",
    "\n",
    "create_action_object(condition, 'reported to house')"
   ]
  },
  {
   "cell_type": "code",
   "execution_count": 55,
   "metadata": {},
   "outputs": [],
   "source": [
    "condition = (((bills_actions['action'].str.contains('reported to senate',case=False)) | \n",
    "                    (bills_actions['action'].str.contains('reported in senate',case=False))))\n",
    "\n",
    "create_action_object(condition, 'reported to senate')"
   ]
  },
  {
   "cell_type": "code",
   "execution_count": 56,
   "metadata": {},
   "outputs": [],
   "source": [
    "condition = ((bills_actions['action'].str.contains('passed',case=False)) & \n",
    "                    ((bills_actions['action'].str.contains('passage',case=False)) | \n",
    "                    (bills_actions['action'].str.contains('passed house',case=False))) & \n",
    "                    ((bills_actions['action'].str.contains('house',case=False)) | \n",
    "                    (bills_actions['bill_chamber']=='House')))\n",
    "\n",
    "create_action_object(condition, 'passed/agreed to in house')"
   ]
  },
  {
   "cell_type": "code",
   "execution_count": 57,
   "metadata": {},
   "outputs": [],
   "source": [
    "condition = ((bills_actions['action'].str.contains('pass the bill',case=False)) & \n",
    "                    (bills_actions['action'].str.contains('Agreed to')))\n",
    "\n",
    "create_action_object(condition, 'passed/agreed to in house')"
   ]
  },
  {
   "cell_type": "code",
   "execution_count": 58,
   "metadata": {},
   "outputs": [],
   "source": [
    "condition = ((bills_actions['action'].str.contains('affirmative',case=False)) & \n",
    "                    (bills_actions['action'].str.contains('passed',case=False)) & \n",
    "                    (bills_actions['bill_chamber']=='House'))\n",
    "\n",
    "create_action_object(condition, 'passed/agreed to in house')"
   ]
  },
  {
   "cell_type": "code",
   "execution_count": 59,
   "metadata": {},
   "outputs": [],
   "source": [
    "condition = ((bills_actions['action'].str.contains('failed',case=False)) & \n",
    "                    ~((bills_actions['action'].str.contains('amendment',case=False)) | \n",
    "                    (bills_actions['action'].str.contains('bill',case=False)) | \n",
    "                    (bills_actions['action'].str.contains('conference report',case=False))) & \n",
    "                    ((bills_actions['action'].str.contains('house',case=False)) | \n",
    "                    (bills_actions['bill_chamber']=='House')))\n",
    "\n",
    "create_action_object(condition, 'failed of passage/not agreed to in house')"
   ]
  },
  {
   "cell_type": "code",
   "execution_count": 60,
   "metadata": {},
   "outputs": [],
   "source": [
    "condition = ((bills_actions['action'].str.contains('passed',case=False)) & \n",
    "                    ((bills_actions['action'].str.contains('passage',case=False)) | \n",
    "                    (bills_actions['action'].str.contains('passed senate',case=False))) & \n",
    "                    ((bills_actions['action'].str.contains('senate',case=False)) | \n",
    "                    (bills_actions['bill_chamber']=='Senate')))\n",
    "\n",
    "create_action_object(condition, 'passed/agreed to in senate')"
   ]
  },
  {
   "cell_type": "code",
   "execution_count": 61,
   "metadata": {},
   "outputs": [],
   "source": [
    "condition = ((bills_actions['action'].str.contains('Submitted in the Senate, considered, and agreed to',case=False)) & \n",
    "                    (bills_actions['vote_type']!='yeas and nays'))\n",
    "\n",
    "create_action_object(condition, 'passed/agreed to in senate')"
   ]
  },
  {
   "cell_type": "code",
   "execution_count": 62,
   "metadata": {},
   "outputs": [],
   "source": [
    "condition = (((bills_actions['action'].str.contains('received in the senate',case=False)) & \n",
    "                    ((bills_actions['action'].str.contains('agreed to',case=False)) | \n",
    "                    (bills_actions['action'].str.contains('passed',case=False)))) | \n",
    "                    (bills_actions['action'].str.contains('resolution agreed to in senate',case=False)))\n",
    "\n",
    "create_action_object(condition, 'passed/agreed to in senate')"
   ]
  },
  {
   "cell_type": "code",
   "execution_count": 63,
   "metadata": {},
   "outputs": [],
   "source": [
    "condition = ((bills_actions['action'].str.contains('failed',case=False)) & \n",
    "                    ~((bills_actions['action'].str.contains('amendment',case=False)) | \n",
    "                    (bills_actions['action'].str.contains('bill',case=False)) | \n",
    "                    (bills_actions['action'].str.contains('conference report',case=False))) & \n",
    "                    ((bills_actions['action'].str.contains('senate',case=False)) | \n",
    "                    (bills_actions['bill_chamber']=='Senate')))\n",
    "\n",
    "create_action_object(condition, 'failed of passage/not agreed to in senate')"
   ]
  },
  {
   "cell_type": "code",
   "execution_count": 64,
   "metadata": {},
   "outputs": [],
   "source": [
    "condition = ((bills_actions['action'].str.contains('filed',case=False)) & \n",
    "                    (bills_actions['action'].str.contains('report',case=False)) & \n",
    "                    (bills_actions['action'].str.contains('committee',case=False)) & \n",
    "                    ~(bills_actions['main_action']=='reported to senate'))\n",
    "\n",
    "create_action_object(condition, 'senate committee report filed after reporting')"
   ]
  },
  {
   "cell_type": "code",
   "execution_count": 65,
   "metadata": {},
   "outputs": [],
   "source": [
    "condition = (((bills_actions['action'].str.contains('failed',case=False)) | \n",
    "                    (bills_actions['action'].str.contains('disapproval',case=False))) & \n",
    "                    (bills_actions['action'].str.contains('bill',case=False)) & \n",
    "                    ((bills_actions['action'].str.contains('house',case=False)) | \n",
    "                    (bills_actions['bill_chamber']=='House')))\n",
    "\n",
    "create_action_object(condition, 'disapproval bill in house')"
   ]
  },
  {
   "cell_type": "code",
   "execution_count": 66,
   "metadata": {},
   "outputs": [],
   "source": [
    "condition = ((bills_actions['action'].str.contains('conference',case=False)) & \n",
    "                    (bills_actions['action'].str.contains('report',case=False)) & \n",
    "                    (bills_actions['action'].str.contains('filed',case=False)))\n",
    "\n",
    "create_action_object(condition, 'conference report filed')"
   ]
  },
  {
   "cell_type": "code",
   "execution_count": 67,
   "metadata": {},
   "outputs": [],
   "source": [
    "condition = ((bills_actions['action'].str.contains('conference report',case=False)) & \n",
    "                    (bills_actions['result']=='agreed') & \n",
    "                    ((bills_actions['vote_type']=='yeas and nays') | \n",
    "                    (bills_actions['vote_type']=='recorded vote')) & \n",
    "                    ~(bills_actions['action'].str.contains('by senator',case=False)) & \n",
    "                    ((bills_actions['action'].str.contains('senate',case=False)) | \n",
    "                    (bills_actions['bill_chamber']=='Senate')))\n",
    "\n",
    "create_action_object(condition, 'conference report agreed to in senate')"
   ]
  },
  {
   "cell_type": "code",
   "execution_count": 68,
   "metadata": {},
   "outputs": [],
   "source": [
    "condition = ((bills_actions['action'].str.contains('conference report',case=False)) & \n",
    "                    (bills_actions['result']=='agreed') & \n",
    "                    ((bills_actions['vote_type']=='yeas and nays') | \n",
    "                    (bills_actions['vote_type']=='recorded vote')) & \n",
    "                    ~((bills_actions['action'].str.contains('senate',case=False)) | \n",
    "                    (bills_actions['bill_chamber']=='Senate')))\n",
    "\n",
    "create_action_object(condition, 'conference report agreed to in house')"
   ]
  },
  {
   "cell_type": "code",
   "execution_count": 69,
   "metadata": {},
   "outputs": [],
   "source": [
    "condition = ((bills_actions['action'].str.contains('conference report',case=False)) & \n",
    "                    (bills_actions['result']=='failed') & \n",
    "                    ((bills_actions['vote_type']=='yeas and nays') | \n",
    "                    (bills_actions['vote_type']=='recorded vote')) & \n",
    "                    ~(bills_actions['action'].str.contains('by senator',case=False)) & \n",
    "                    ((bills_actions['action'].str.contains('senate',case=False)) | \n",
    "                    (bills_actions['bill_chamber']=='Senate')))\n",
    "\n",
    "create_action_object(condition, 'conference report disagreed to in senate')"
   ]
  },
  {
   "cell_type": "code",
   "execution_count": 70,
   "metadata": {},
   "outputs": [],
   "source": [
    "condition = ((bills_actions['action'].str.contains('conference report',case=False)) & \n",
    "                    (bills_actions['result']=='failed') & \n",
    "                    ((bills_actions['vote_type']=='yeas and nays') | \n",
    "                    (bills_actions['vote_type']=='recorded vote')) & \n",
    "                    ~(bills_actions['action'].str.contains('by senator',case=False)) & \n",
    "                    ((bills_actions['action'].str.contains('house',case=False)) | \n",
    "                    (bills_actions['bill_chamber']=='House')))\n",
    "\n",
    "create_action_object(condition, 'conference report disagreed to in house')"
   ]
  },
  {
   "cell_type": "code",
   "execution_count": 71,
   "metadata": {},
   "outputs": [],
   "source": [
    "condition = ((bills_actions['action'].str.contains('on motion that the house',case=False)))\n",
    "\n",
    "create_action_object(condition, 'resolving differences -- house actions')"
   ]
  },
  {
   "cell_type": "code",
   "execution_count": 72,
   "metadata": {},
   "outputs": [],
   "source": [
    "condition = ((bills_actions['action'].str.contains('conference',case=False)) & \n",
    "                    ~(bills_actions['action'].str.contains('conference report',case=False)) & \n",
    "                    ~(bills_actions['action'].str.contains('Mr')) & \n",
    "                    ~(bills_actions['action'].str.contains('Ms')) & \n",
    "                    ~(bills_actions['action'].str.contains('conferees',case=False)) & \n",
    "                    (bills_actions['bill_chamber']=='House'))\n",
    "\n",
    "create_action_object(condition, 'resolving differences -- house actions')"
   ]
  },
  {
   "cell_type": "code",
   "execution_count": 73,
   "metadata": {},
   "outputs": [],
   "source": [
    "condition = ((bills_actions['action'].str.contains('house agreed to',case=False)) & \n",
    "                    (bills_actions['action'].str.contains('senate amendment',case=False)) & \n",
    "                    ~(bills_actions['action'].str.contains('Mr')) & \n",
    "                    ~(bills_actions['action'].str.contains('Ms')))\n",
    "\n",
    "create_action_object(condition, 'resolving differences -- house actions')"
   ]
  },
  {
   "cell_type": "code",
   "execution_count": 74,
   "metadata": {},
   "outputs": [],
   "source": [
    "condition = ((bills_actions['action'].str.contains('conference',case=False)) & \n",
    "                    ~(bills_actions['action'].str.contains('conference report',case=False)) & \n",
    "                    ~(bills_actions['action'].str.contains('Mr')) & \n",
    "                    ~(bills_actions['action'].str.contains('Ms')) & \n",
    "                    ~(bills_actions['action'].str.contains('conferees',case=False)) & \n",
    "                    ~(bills_actions['action'].str.contains('proposed by',case=False)) & \n",
    "                    (bills_actions['bill_chamber']=='Senate'))\n",
    "\n",
    "create_action_object(condition, 'resolving differences -- senate actions')"
   ]
  },
  {
   "cell_type": "code",
   "execution_count": 75,
   "metadata": {},
   "outputs": [],
   "source": [
    "condition = ((bills_actions['action'].str.contains('motion',case=False)) & \n",
    "                    (bills_actions['bill_chamber']=='Senate') & \n",
    "                    ((bills_actions['action'].str.contains('conference',case=False)) | \n",
    "                    (bills_actions['action'].str.contains('conferee',case=False)) | \n",
    "                    (bills_actions['action'].str.contains('house amendment',case=False))))\n",
    "\n",
    "create_action_object(condition, 'resolving differences -- senate actions')"
   ]
  },
  {
   "cell_type": "code",
   "execution_count": 76,
   "metadata": {},
   "outputs": [],
   "source": [
    "condition = (((bills_actions['action'].str.contains('conference',case=False)) | \n",
    "                    (bills_actions['action'].str.contains('conferee',case=False))) & \n",
    "                    (bills_actions['main_action']=='') & \n",
    "                    (bills_actions['bill_chamber']=='House'))\n",
    "\n",
    "create_action_object(condition, 'resolving differences -- house actions')"
   ]
  },
  {
   "cell_type": "code",
   "execution_count": 77,
   "metadata": {},
   "outputs": [],
   "source": [
    "condition = (((bills_actions['action'].str.contains('conference',case=False)) | \n",
    "                    (bills_actions['action'].str.contains('conferee',case=False))) & \n",
    "                    (bills_actions['main_action']=='') & \n",
    "                    (bills_actions['bill_chamber']=='Senate'))\n",
    "\n",
    "create_action_object(condition, 'resolving differences -- senate actions')"
   ]
  },
  {
   "cell_type": "code",
   "execution_count": 78,
   "metadata": {},
   "outputs": [],
   "source": [
    "condition = (((bills_actions['action'].str.contains('conference',case=False)) | \n",
    "                    (bills_actions['action'].str.contains('conferee',case=False))) & \n",
    "                    ~(bills_actions['action'].str.contains('proposed by senator',case=False)) & \n",
    "                    (bills_actions['main_action']=='') & \n",
    "                    (bills_actions['bill_chamber']=='Empty'))\n",
    "\n",
    "create_action_object(condition, 'conference committee actions')"
   ]
  },
  {
   "cell_type": "code",
   "execution_count": 79,
   "metadata": {},
   "outputs": [],
   "source": [
    "condition = ((bills_actions['action'].str.contains('Committee')) & \n",
    "            ~(bills_actions['action'].str.contains('committee of the whole',case=False)) & \n",
    "            ~(bills_actions['action'].str.contains('points of order',case=False)) & \n",
    "            ~(bills_actions['action'].str.contains('house proceeded',case=False)) & \n",
    "                    (bills_actions['bill_chamber']=='House') & \n",
    "                    (bills_actions['main_action']==''))\n",
    "\n",
    "create_action_object(condition, 'house committee/subcommittee actions')"
   ]
  },
  {
   "cell_type": "code",
   "execution_count": 80,
   "metadata": {},
   "outputs": [],
   "source": [
    "condition = ((bills_actions['action'].str.contains('house committee',case=False)) & \n",
    "            ~(bills_actions['action'].str.contains('committee of the whole',case=False)) & \n",
    "            ~(bills_actions['action'].str.contains('points of order',case=False)) & \n",
    "            ~(bills_actions['action'].str.contains('house proceeded',case=False)) & \n",
    "            ~(bills_actions['action'].str.contains('amendment',case=False)) & \n",
    "                    ~(bills_actions['bill_chamber']=='House') & \n",
    "                    (bills_actions['main_action']==''))\n",
    "\n",
    "create_action_object(condition, 'house committee/subcommittee actions')"
   ]
  },
  {
   "cell_type": "code",
   "execution_count": 81,
   "metadata": {},
   "outputs": [],
   "source": [
    "condition = ((bills_actions['action'].str.contains('Committee')) & \n",
    "            ~(bills_actions['action'].str.contains('committee of the whole',case=False)) & \n",
    "            ~(bills_actions['action'].str.contains('points of order',case=False)) & \n",
    "            ~(bills_actions['action'].str.contains('house proceeded',case=False)) & \n",
    "            ~(bills_actions['action'].str.contains('cloture',case=False)) & \n",
    "            ~(bills_actions['action'].str.contains('motion',case=False)) & \n",
    "            ~(bills_actions['action'].str.contains('proposed by',case=False)) & \n",
    "            ~(bills_actions['action'].str.contains('rule provides for',case=False)) & \n",
    "                ~(bills_actions['action'].str.contains('adopt',case=False)) & \n",
    "                    ~(bills_actions['bill_chamber']=='House') & \n",
    "                    (bills_actions['main_action']==''))\n",
    "\n",
    "create_action_object(condition, 'senate committee/subcommittee actions')"
   ]
  },
  {
   "cell_type": "code",
   "execution_count": 82,
   "metadata": {},
   "outputs": [],
   "source": [
    "bills_actions.loc[(bills_actions['main_action']=='senate committee/subcommittee actions') & \n",
    "                  (bills_actions['action'].str.contains('house',case=False)) & \n",
    "                  (bills_actions['bill_chamber']=='Empty'), 'main_action'] = 'house committee/subcommittee actions'"
   ]
  },
  {
   "cell_type": "code",
   "execution_count": 83,
   "metadata": {},
   "outputs": [],
   "source": [
    "bills_actions.loc[(bills_actions['main_action']=='senate committee/subcommittee actions') & \n",
    "                  ((bills_actions['action'].str.contains('Mr')) | \n",
    "                  (bills_actions['action'].str.contains('Ms'))), 'main_action'] = 'house committee/subcommittee actions'"
   ]
  },
  {
   "cell_type": "code",
   "execution_count": 84,
   "metadata": {},
   "outputs": [],
   "source": [
    "condition = ((bills_actions['action'].str.contains('measure',case=False)) & \n",
    "                    ((bills_actions['vote_type']=='yeas and nays') |\n",
    "                    (bills_actions['vote_type']=='recorded vote')) & \n",
    "                    ((bills_actions['action'].str.contains('senate',case=False)) | \n",
    "                    (bills_actions['bill_chamber']=='Senate')))\n",
    "\n",
    "create_action_object(condition, 'roll call votes on measures in senate')"
   ]
  },
  {
   "cell_type": "code",
   "execution_count": 85,
   "metadata": {},
   "outputs": [],
   "source": [
    "condition = ((bills_actions['action'].str.contains('Submitted in the Senate, considered, and agreed to',case=False)) & \n",
    "                    (bills_actions['vote_type']=='yeas and nays'))\n",
    "\n",
    "create_action_object(condition, 'roll call votes on measures in senate')"
   ]
  },
  {
   "cell_type": "code",
   "execution_count": 86,
   "metadata": {},
   "outputs": [],
   "source": [
    "condition = ((bills_actions['action'].str.contains('measure',case=False)) & \n",
    "                    ((bills_actions['vote_type']=='yeas and nays') |\n",
    "                    (bills_actions['vote_type']=='recorded vote')) & \n",
    "                    ~((bills_actions['action'].str.contains('senate',case=False)) | \n",
    "                    (bills_actions['bill_chamber']=='Senate')) & \n",
    "                    ~(bills_actions['action'].str.contains('on passage',case=False)))\n",
    "\n",
    "create_action_object(condition, 'roll call votes on measures in house')"
   ]
  },
  {
   "cell_type": "code",
   "execution_count": 87,
   "metadata": {},
   "outputs": [],
   "source": [
    "condition = ((bills_actions['action'].str.contains('presented to president',case=False)))\n",
    "\n",
    "create_action_object(condition, 'presented to president')"
   ]
  },
  {
   "cell_type": "code",
   "execution_count": 88,
   "metadata": {},
   "outputs": [],
   "source": [
    "condition = ((bills_actions['action'].str.contains('pocket veto',case=False)))\n",
    "\n",
    "create_action_object(condition, 'pocket vetoed by president')"
   ]
  },
  {
   "cell_type": "code",
   "execution_count": 89,
   "metadata": {},
   "outputs": [],
   "source": [
    "condition = ((bills_actions['action'].str.contains('signed by president',case=False)))\n",
    "\n",
    "create_action_object(condition, 'signed by president')"
   ]
  },
  {
   "cell_type": "code",
   "execution_count": 90,
   "metadata": {},
   "outputs": [],
   "source": [
    "condition = ((bills_actions['action'].str.contains('unsigned',case=False)))\n",
    "\n",
    "create_action_object(condition, 'sent to archivist unsigned by president')"
   ]
  },
  {
   "cell_type": "code",
   "execution_count": 91,
   "metadata": {},
   "outputs": [],
   "source": [
    "condition = ((bills_actions['action'].str.contains('vetoed by president',case=False)))\n",
    "\n",
    "create_action_object(condition, 'vetoed by president')"
   ]
  },
  {
   "cell_type": "code",
   "execution_count": 92,
   "metadata": {},
   "outputs": [],
   "source": [
    "condition = ((bills_actions['action'].str.contains('veto',case=False)) & \n",
    "                    (bills_actions['action'].str.contains('passed',case=False)))\n",
    "\n",
    "create_action_object(condition, 'passed senate over veto')"
   ]
  },
  {
   "cell_type": "code",
   "execution_count": 93,
   "metadata": {},
   "outputs": [],
   "source": [
    "condition = ((bills_actions['action'].str.contains('veto',case=False)) & \n",
    "                    (bills_actions['action'].str.contains('failed of passage in senate',case=False)))\n",
    "\n",
    "create_action_object(condition, 'failed of passage in senate over veto')"
   ]
  },
  {
   "cell_type": "code",
   "execution_count": 94,
   "metadata": {},
   "outputs": [],
   "source": [
    "condition = ((bills_actions['action'].str.contains('became public law',case=False)))\n",
    "\n",
    "create_action_object(condition, 'became public law')"
   ]
  },
  {
   "cell_type": "code",
   "execution_count": 95,
   "metadata": {},
   "outputs": [],
   "source": [
    "condition = ((bills_actions['action'].str.contains('became private law',case=False)))\n",
    "\n",
    "create_action_object(condition, 'became private law')"
   ]
  },
  {
   "cell_type": "code",
   "execution_count": 96,
   "metadata": {},
   "outputs": [],
   "source": [
    "condition = ((bills_actions['action'].str.contains('amendment',case=False)) & \n",
    "                    (bills_actions['action'].str.contains('offered',case=False)) & \n",
    "                    ~(bills_actions['action'].str.contains('proposed by senator',case=False)) & \n",
    "                    (bills_actions['amendment_number']!=''))\n",
    "\n",
    "create_action_object(condition, 'house amendment offered')"
   ]
  },
  {
   "cell_type": "code",
   "execution_count": 97,
   "metadata": {},
   "outputs": [],
   "source": [
    "condition = ((bills_actions['action'].str.contains('amendment',case=False)) & \n",
    "                    (bills_actions['action'].str.contains('proposed by',case=False)))\n",
    "\n",
    "create_action_object(condition, 'senate amendment proposed (on the floor)')"
   ]
  },
  {
   "cell_type": "code",
   "execution_count": 98,
   "metadata": {},
   "outputs": [],
   "source": [
    "condition = ((bills_actions['action'].str.contains('amendment',case=False)) & \n",
    "                    ((bills_actions['action'].str.contains('considered as adopted',case=False)) | \n",
    "                    (bills_actions['action'].str.contains('house adopted',case=False))) & \n",
    "                    (bills_actions['main_action']!='reported to house'))\n",
    "\n",
    "create_action_object(condition, 'house amendment considered as adopted')"
   ]
  },
  {
   "cell_type": "code",
   "execution_count": 99,
   "metadata": {},
   "outputs": [],
   "source": [
    "condition = ((bills_actions['action'].str.contains('amendment',case=False)) & \n",
    "                    (bills_actions['action'].str.contains('agreed',case=False)) & \n",
    "                    ~(bills_actions['action'].str.contains('motion',case=False)) & \n",
    "                    (bills_actions['result']=='failed') & \n",
    "                    (bills_actions['main_action']=='') & \n",
    "                    (bills_actions['amendment_number']!=''))\n",
    "\n",
    "create_action_object(condition, 'senate amendment not agreed to')"
   ]
  },
  {
   "cell_type": "code",
   "execution_count": 100,
   "metadata": {},
   "outputs": [],
   "source": [
    "condition = ((bills_actions['action'].str.contains('amendment',case=False)) & \n",
    "                    ~(bills_actions['action'].str.contains('motion',case=False)) & \n",
    "                    (bills_actions['result']=='failed') & \n",
    "                    (bills_actions['main_action']=='') & \n",
    "                    (bills_actions['amendment_number']!='') & \n",
    "                    ~((bills_actions['action'].str.contains('senate',case=False)) | \n",
    "                    (bills_actions['bill_chamber']=='Senate')))\n",
    "\n",
    "create_action_object(condition, 'house amendment not agreed to')"
   ]
  },
  {
   "cell_type": "code",
   "execution_count": 101,
   "metadata": {},
   "outputs": [],
   "source": [
    "condition = ((bills_actions['action'].str.contains('amendment',case=False)) & \n",
    "                    ~(bills_actions['action'].str.contains('motion',case=False)) & \n",
    "                    (bills_actions['result']=='agreed') & \n",
    "                    (bills_actions['main_action']=='') & \n",
    "                    (bills_actions['amendment_number']!='') & \n",
    "                    ~(bills_actions['action'].str.contains('withdrawn',case=False)) & \n",
    "                    ~(bills_actions['action'].str.contains('modified',case=False)) & \n",
    "                    ~((bills_actions['action'].str.contains('senate',case=False)) | \n",
    "                    (bills_actions['bill_chamber']=='Senate')))\n",
    "\n",
    "create_action_object(condition, 'house amendment agreed to')"
   ]
  },
  {
   "cell_type": "code",
   "execution_count": 102,
   "metadata": {},
   "outputs": [],
   "source": [
    "condition = ((bills_actions['action'].str.contains('amendment',case=False)) & \n",
    "                    ~(bills_actions['action'].str.contains('motion',case=False)) & \n",
    "                    (bills_actions['action'].str.contains('agreed',case=False)) & \n",
    "                    ~(bills_actions['action'].str.contains('was modified',case=False)) & \n",
    "                    ~(bills_actions['action'].str.contains('was further modified',case=False)) & \n",
    "                    (bills_actions['result']=='agreed') & \n",
    "                    (bills_actions['main_action']=='') & \n",
    "                    (bills_actions['amendment_number']!='') & \n",
    "                    ((bills_actions['action'].str.contains('senate',case=False)) | \n",
    "                    (bills_actions['bill_chamber']=='Senate')))\n",
    "\n",
    "create_action_object(condition, 'senate amendment agreed to')"
   ]
  },
  {
   "cell_type": "code",
   "execution_count": 103,
   "metadata": {},
   "outputs": [],
   "source": [
    "condition = ((bills_actions['action'].str.contains('amendment',case=False)) & \n",
    "                    (bills_actions['action'].str.contains('referred to the committee',case=False)) & \n",
    "                    ~(bills_actions['action'].str.contains('motion by senator',case=False)) & \n",
    "                    ~(bills_actions['action'].str.contains('house committee',case=False)))\n",
    "\n",
    "create_action_object(condition, 'senate amendment referred to committee')"
   ]
  },
  {
   "cell_type": "code",
   "execution_count": 104,
   "metadata": {},
   "outputs": [],
   "source": [
    "condition = ((bills_actions['action'].str.contains('amendment',case=False)) & \n",
    "                    ~(bills_actions['action'].str.contains('points of order',case=False)) & \n",
    "                    ~(bills_actions['action'].str.contains('rule provides for consideration',case=False)) & \n",
    "                    ((bills_actions['action'].str.contains('senate',case=False)) | \n",
    "                    (bills_actions['bill_chamber']=='Senate')) & \n",
    "                    (bills_actions['main_action']=='') & \n",
    "                    (bills_actions['bill_chamber']!='House'))\n",
    "\n",
    "create_action_object(condition, 'other senate amendment actions')"
   ]
  },
  {
   "cell_type": "code",
   "execution_count": 105,
   "metadata": {},
   "outputs": [],
   "source": [
    "condition = ((bills_actions['action'].str.contains('amendment',case=False)) & \n",
    "                    ~(bills_actions['action'].str.contains('points of order',case=False)) & \n",
    "                    ~((bills_actions['action'].str.contains('motion to recommit',case=False)) & \n",
    "                    (bills_actions['action'].str.contains('Mr'))) & \n",
    "                    ~(bills_actions['action'].str.contains('rule provides for consideration',case=False)) & \n",
    "                    ((bills_actions['action'].str.contains('house',case=False)) | \n",
    "                    (bills_actions['bill_chamber']=='House')) & \n",
    "                    (bills_actions['main_action']==''))\n",
    "\n",
    "create_action_object(condition, 'other house amendment actions')"
   ]
  },
  {
   "cell_type": "code",
   "execution_count": 106,
   "metadata": {},
   "outputs": [],
   "source": [
    "condition = ((bills_actions['main_action']=='') & \n",
    "                    (bills_actions['amendment_number']!='') & \n",
    "                    (bills_actions['action'].str.contains('proposed by',case=False)))\n",
    "\n",
    "create_action_object(condition, 'senate amendment proposed (on the floor)')"
   ]
  },
  {
   "cell_type": "code",
   "execution_count": 107,
   "metadata": {},
   "outputs": [],
   "source": [
    "condition = ((bills_actions['main_action']=='') & \n",
    "                    (bills_actions['amendment_number']!='') & \n",
    "                    (bills_actions['action'].str.contains('h.amdt.',case=False)))\n",
    "\n",
    "create_action_object(condition, 'other house amendment actions')"
   ]
  },
  {
   "cell_type": "code",
   "execution_count": 108,
   "metadata": {},
   "outputs": [],
   "source": [
    "condition = ((bills_actions['main_action']=='') & \n",
    "                    (bills_actions['amendment_number']!=''))\n",
    "\n",
    "create_action_object(condition, 'other senate amendment actions')"
   ]
  },
  {
   "cell_type": "code",
   "execution_count": 109,
   "metadata": {},
   "outputs": [],
   "source": [
    "bills_actions.loc[((bills_actions['main_action']=='senate amendment not agreed to') | \n",
    "                  (bills_actions['main_action']=='senate amendment agreed to')) & \n",
    "                  ((bills_actions['vote_type']=='yeas and nays') | \n",
    "                  (bills_actions['vote_type']=='recorded vote')), 'main_action'] = 'roll call votes on amendments in senate'"
   ]
  },
  {
   "cell_type": "code",
   "execution_count": 110,
   "metadata": {},
   "outputs": [],
   "source": [
    "bills_actions.loc[((bills_actions['main_action']=='house amendment not agreed to') | \n",
    "                  (bills_actions['main_action']=='house amendment agreed to')) & \n",
    "                  ((bills_actions['vote_type']=='yeas and nays') | \n",
    "                  (bills_actions['vote_type']=='recorded vote')), 'main_action'] = 'roll call votes on amendments in house'"
   ]
  },
  {
   "cell_type": "code",
   "execution_count": 111,
   "metadata": {},
   "outputs": [],
   "source": [
    "condition = ((bills_actions['main_action']=='') & \n",
    "                    ((bills_actions['action'].str.contains('senate',case=False)) | \n",
    "                    (bills_actions['bill_chamber']=='Senate')))\n",
    "\n",
    "create_action_object(condition, 'senate floor actions')"
   ]
  },
  {
   "cell_type": "code",
   "execution_count": 112,
   "metadata": {},
   "outputs": [],
   "source": [
    "condition = ((bills_actions['main_action']=='') & \n",
    "                    ((bills_actions['action'].str.contains('house',case=False)) | \n",
    "                    (bills_actions['bill_chamber']=='House')))\n",
    "\n",
    "create_action_object(condition, 'house floor actions')"
   ]
  },
  {
   "cell_type": "code",
   "execution_count": 113,
   "metadata": {},
   "outputs": [],
   "source": [
    "condition = ((bills_actions['action'].str.contains('resolution',case=False)) & \n",
    "                    ((bills_actions['action'].str.contains('on agreeing',case=False)) | \n",
    "                    (bills_actions['action'].str.contains('on consideration',case=False)) | \n",
    "                    (bills_actions['action'].str.contains('on motion to consider',case=False)) | \n",
    "                    (bills_actions['action'].str.contains('suspend the rules',case=False))) & \n",
    "                    ~(bills_actions['action'].str.contains('at the conclusion of debate',case=False)) & \n",
    "                    (bills_actions['action'].str.contains('agreed to',case=False)))\n",
    "\n",
    "create_action_object(condition, 'passed/agreed to in house')"
   ]
  },
  {
   "cell_type": "code",
   "execution_count": 114,
   "metadata": {},
   "outputs": [],
   "source": [
    "condition = ((bills_actions['main_action']=='') & \n",
    "                    (bills_actions['bill_number'].str.contains('S')))\n",
    "\n",
    "create_action_object(condition, 'senate floor actions')"
   ]
  },
  {
   "cell_type": "code",
   "execution_count": 115,
   "metadata": {},
   "outputs": [],
   "source": [
    "condition = ((bills_actions['main_action']=='') & \n",
    "                    (bills_actions['bill_number'].str.contains('H')))\n",
    "\n",
    "create_action_object(condition, 'house floor actions')"
   ]
  },
  {
   "cell_type": "code",
   "execution_count": 116,
   "metadata": {},
   "outputs": [],
   "source": [
    "bills_actions.loc[(bills_actions['main_action'].str.contains('amendment',case=False)), 'object'] = 'amendment'"
   ]
  },
  {
   "cell_type": "code",
   "execution_count": 117,
   "metadata": {},
   "outputs": [],
   "source": [
    "bills_actions.loc[((bills_actions['main_action']=='failed of passage/not agreed to in house') | \n",
    "                    (bills_actions['main_action']=='passed/agreed to in house')) & \n",
    "                    (bills_actions['action'].str.contains('on passage',case=False)) & \n",
    "                    ~(bills_actions['action'].str.contains('Mr')), 'final_vote'] = 'house'"
   ]
  },
  {
   "cell_type": "code",
   "execution_count": 118,
   "metadata": {},
   "outputs": [],
   "source": [
    "bills_actions.loc[((bills_actions['main_action']=='failed of passage/not agreed to in senate') | \n",
    "                    (bills_actions['main_action']=='passed/agreed to in senate')) & \n",
    "                    ((bills_actions['action'].str.contains('on passage',case=False)) | \n",
    "                    (bills_actions['action'].str.contains('failed of passage',case=False)) | \n",
    "                    (bills_actions['action'].str.contains('Passed Senate'))) & \n",
    "                    ~(bills_actions['action'].str.contains('the resolution makes in order',case=False)) & \n",
    "                    ~(bills_actions['action'].str.contains('Motion by',case=False)), 'final_vote'] = 'senate'"
   ]
  },
  {
   "cell_type": "code",
   "execution_count": 119,
   "metadata": {},
   "outputs": [],
   "source": [
    "bills_actions.loc[(bills_actions['final_vote']==''), 'final_vote'] = 'no'"
   ]
  },
  {
   "cell_type": "code",
   "execution_count": 120,
   "metadata": {},
   "outputs": [],
   "source": [
    "bills_actions.loc[((bills_actions['action'].str.contains('at the conclusion of debate',case=False)) | \n",
    "                  (bills_actions['action'].str.contains('postpone',case=False))) & \n",
    "                  ((bills_actions['action'].str.contains('on passage',case=False)) | \n",
    "                  (bills_actions['action'].str.contains('final passage',case=False))) & \n",
    "                  ~(bills_actions['action'].str.contains('The House proceeded with one hour of debate',case=False)) & \n",
    "                  ~(bills_actions['action'].str.contains('ORDER OF BUSINESS')) & \n",
    "                  ~(bills_actions['action'].str.contains('ORDER OF PROCEEDINGS')) & \n",
    "                  ~(bills_actions['action'].str.contains('VITIATION OF EARLIER PROCEEDINGS')) & \n",
    "                  ~(bills_actions['action'].str.contains('amendment',case=False)), 'postponed_object'] = 'final passage'"
   ]
  },
  {
   "cell_type": "code",
   "execution_count": 121,
   "metadata": {},
   "outputs": [],
   "source": [
    "bills_actions.loc[((bills_actions['action'].str.contains('at the conclusion of debate',case=False)) | \n",
    "                  (bills_actions['action'].str.contains('postpone',case=False))) & \n",
    "                  (bills_actions['action'].str.contains('motion',case=False)) & \n",
    "                  (bills_actions['postponed_object']==''), 'postponed_object'] = 'motion'"
   ]
  },
  {
   "cell_type": "code",
   "execution_count": 122,
   "metadata": {},
   "outputs": [],
   "source": [
    "bills_actions.loc[((bills_actions['action'].str.contains('at the conclusion of debate',case=False)) | \n",
    "                  (bills_actions['action'].str.contains('postpone',case=False))) & \n",
    "                  (bills_actions['action'].str.contains('amendment',case=False)) & \n",
    "                  (bills_actions['postponed_object']=='') & \n",
    "                  ~(bills_actions['action'].str.contains('proposed by',case=False)), 'postponed_object'] = 'amendment'"
   ]
  },
  {
   "cell_type": "code",
   "execution_count": 123,
   "metadata": {},
   "outputs": [],
   "source": [
    "bills_actions.loc[(bills_actions['postponed_object']=='amendment') & \n",
    "                    (bills_actions['object']!='amendment'), new_columns[0:2]] = ['other house amendment actions', 'amendment']"
   ]
  },
  {
   "cell_type": "code",
   "execution_count": 124,
   "metadata": {},
   "outputs": [],
   "source": [
    "bills_actions.loc[(bills_actions['action'].str.contains('S.Amdt')) & \n",
    "                    (bills_actions['action'].str.contains('referred',case=False)) & \n",
    "                    ~(bills_actions['action'].str.contains('proposed by',case=False)), new_columns[0:2]] = ['senate amendment referred to committee', 'amendment']"
   ]
  },
  {
   "cell_type": "code",
   "execution_count": 125,
   "metadata": {},
   "outputs": [],
   "source": [
    "bills_actions.loc[(bills_actions['action'].str.contains('S.Amdt')) & \n",
    "                    (bills_actions['object']!='amendment') & \n",
    "                    (bills_actions['action'].str.contains('proposed by',case=False)), new_columns[0:2]] = ['senate amendment proposed (on the floor)', 'amendment']"
   ]
  },
  {
   "cell_type": "code",
   "execution_count": 126,
   "metadata": {},
   "outputs": [],
   "source": [
    "bills_actions.loc[(bills_actions['action'].str.contains('S.Amdt')) & \n",
    "                    (bills_actions['object']!='amendment'), new_columns[0:2]] = ['other senate amendment actions', 'amendment']"
   ]
  },
  {
   "cell_type": "code",
   "execution_count": 127,
   "metadata": {},
   "outputs": [],
   "source": [
    "bills_actions.loc[(bills_actions['amendment_number']!='') & \n",
    "                    (bills_actions['object']!='amendment') & \n",
    "                    ((bills_actions['bill_chamber']=='Senate') | \n",
    "                    (bills_actions['action'].str.contains('Senate',case=False))), new_columns[0:2]] = ['other senate amendment actions', 'amendment']"
   ]
  },
  {
   "cell_type": "code",
   "execution_count": 128,
   "metadata": {},
   "outputs": [],
   "source": [
    "bills_actions.loc[(bills_actions['amendment_number']!='') & \n",
    "                    (bills_actions['object']!='amendment') & \n",
    "                    ~((bills_actions['bill_chamber']=='Senate') | \n",
    "                    (bills_actions['action'].str.contains('Senate',case=False))), new_columns[0:2]] = ['other house amendment actions', 'amendment']"
   ]
  },
  {
   "cell_type": "code",
   "execution_count": 129,
   "metadata": {},
   "outputs": [],
   "source": [
    "bills_actions.loc[((bills_actions['action'].str.contains('at the conclusion of debate',case=False)) | \n",
    "                  (bills_actions['action'].str.contains('postpone',case=False))) & \n",
    "                  (bills_actions['action'].str.contains('resolution',case=False)) & \n",
    "                  ((bills_actions['action'].str.contains('adoption',case=False)) | \n",
    "                  (bills_actions['action'].str.contains('agreeing',case=False)) | \n",
    "                  (bills_actions['action'].str.contains('passage',case=False))) & \n",
    "                  (bills_actions['object']!='amendment') & \n",
    "                  (bills_actions['action'].str.contains('rule provides for consideration',case=False)), 'main_action'] = 'house floor actions'"
   ]
  },
  {
   "cell_type": "code",
   "execution_count": 130,
   "metadata": {},
   "outputs": [],
   "source": [
    "bills_actions.loc[((bills_actions['action'].str.contains('at the conclusion of debate',case=False)) | \n",
    "                  (bills_actions['action'].str.contains('postpone',case=False))) & \n",
    "                  (bills_actions['action'].str.contains('resolution',case=False)) & \n",
    "                  ((bills_actions['action'].str.contains('adoption',case=False)) | \n",
    "                  (bills_actions['action'].str.contains('agreeing',case=False)) | \n",
    "                  (bills_actions['action'].str.contains('passage',case=False))) & \n",
    "                  (bills_actions['object']!='amendment') & \n",
    "                  ~(bills_actions['action'].str.contains('rule provides for consideration',case=False)), 'postponed_object'] = 'final passage'"
   ]
  },
  {
   "cell_type": "code",
   "execution_count": 131,
   "metadata": {},
   "outputs": [],
   "source": [
    "bills_actions.loc[((bills_actions['main_action']=='failed of passage/not agreed to in house') | \n",
    "                    (bills_actions['main_action']=='passed/agreed to in house')) & \n",
    "                    (bills_actions['action'].str.contains('resolution',case=False)) & \n",
    "                    ((bills_actions['action'].str.contains('on agreeing',case=False)) | \n",
    "                    (bills_actions['action'].str.contains('on motion to suspend the rules',case=False))) & \n",
    "                    (bills_actions['postponed_object']!='final passage'), 'final_vote'] = 'house'"
   ]
  },
  {
   "cell_type": "code",
   "execution_count": 132,
   "metadata": {},
   "outputs": [],
   "source": [
    "bills_actions.loc[((bills_actions['main_action']=='failed of passage/not agreed to in house') | \n",
    "                    (bills_actions['main_action']=='passed/agreed to in house')) & \n",
    "                    (bills_actions['action'].str.contains('resolution',case=False)) & \n",
    "                    ~((bills_actions['action'].str.contains('on agreeing',case=False)) | \n",
    "                    (bills_actions['action'].str.contains('on motion to suspend the rules',case=False))), 'main_action'] = 'house floor actions'"
   ]
  },
  {
   "cell_type": "code",
   "execution_count": 133,
   "metadata": {},
   "outputs": [],
   "source": [
    "bills_actions.loc[(bills_actions['action'].str.contains('demand',case=False)) & \n",
    "                  (bills_actions['action'].str.contains('yea',case=False)) & \n",
    "                  ~(bills_actions['action'].str.contains('voice',case=False)), 'vote_split'] = 'requested yeas and nays'"
   ]
  },
  {
   "cell_type": "code",
   "execution_count": 134,
   "metadata": {},
   "outputs": [],
   "source": [
    "tp = bills_actions.loc[(bills_actions['vote_split']=='requested yeas and nays') & \n",
    "                    (bills_actions['action'].str.contains('moved',case=False)) & \n",
    "                    (bills_actions['action'].str.contains('demanded the yeas',case=False)), 'action'].copy()\n",
    "\n",
    "bills_actions.loc[(bills_actions['vote_split']=='requested yeas and nays') & \n",
    "                    (bills_actions['action'].str.contains('moved',case=False)) & \n",
    "                    (bills_actions['action'].str.contains('demanded the yeas',case=False)), 'proponent'] = tp.str.split('Mr', expand=True)[2].str.split(' ', expand=True)[1].str.replace(' ','', regex=True).str.replace('.','', regex=True).str.replace(',','', regex=True)"
   ]
  },
  {
   "cell_type": "code",
   "execution_count": 135,
   "metadata": {},
   "outputs": [],
   "source": [
    "tp = bills_actions.loc[(bills_actions['proponent']=='demanded') & \n",
    "                    (bills_actions['action'].str.contains('Mr',case=False)), 'action'].copy()\n",
    "\n",
    "bills_actions.loc[(bills_actions['proponent']=='demanded') & \n",
    "                    (bills_actions['action'].str.contains('Mr',case=False)), 'proponent'] = tp.str.split('Mr', expand=True)[1].str.split('demanded', expand=True)[0].str.replace(' ','', regex=True).str.replace('.','', regex=True).str.replace(',','', regex=True)"
   ]
  },
  {
   "cell_type": "code",
   "execution_count": 136,
   "metadata": {},
   "outputs": [],
   "source": [
    "bills_actions.loc[(bills_actions['proponent']=='demanded') & \n",
    "                    (bills_actions['action'].str.contains('velazquez',case=False)), 'proponent'] = 'Velazquez'"
   ]
  },
  {
   "cell_type": "code",
   "execution_count": 137,
   "metadata": {},
   "outputs": [],
   "source": [
    "tp = bills_actions.loc[(bills_actions['action'].str.count('Mr') == 2) & \n",
    "                    ((bills_actions['vote_split']=='requested yeas and nays') | \n",
    "                    (bills_actions['vote_split']=='requested recorded vote')), 'action'].copy()\n",
    "\n",
    "bills_actions.loc[(bills_actions['action'].str.count('Mr') == 2) & \n",
    "                    ((bills_actions['vote_split']=='requested yeas and nays') | \n",
    "                    (bills_actions['vote_split']=='requested recorded vote')), 'proponent'] = tp.str.split('Mr', expand=True)[2].str.split(' ', expand=True)[1].str.replace(' ','', regex=True).str.replace('.','', regex=True).str.replace(',','', regex=True)"
   ]
  },
  {
   "cell_type": "code",
   "execution_count": 138,
   "metadata": {},
   "outputs": [],
   "source": [
    "tp = bills_actions.loc[(bills_actions['action'].str.count('Mr') > 2) & \n",
    "                    ((bills_actions['vote_split']=='requested yeas and nays') | \n",
    "                    (bills_actions['vote_split']=='requested recorded vote')), 'action'].copy()\n",
    "\n",
    "bills_actions.loc[(bills_actions['action'].str.count('Mr') > 2) & \n",
    "                    ((bills_actions['vote_split']=='requested yeas and nays') | \n",
    "                    (bills_actions['vote_split']=='requested recorded vote')), 'proponent'] = tp.str.split('Mr', expand=True)[3].str.split(' ', expand=True)[1].str.replace(' ','', regex=True).str.replace('.','', regex=True).str.replace(',','', regex=True)"
   ]
  },
  {
   "cell_type": "code",
   "execution_count": 139,
   "metadata": {},
   "outputs": [],
   "source": [
    "bills_actions.loc[(bills_actions['action'].str.contains('george miller',case=False)) & \n",
    "                    ((bills_actions['vote_split']=='requested yeas and nays') | \n",
    "                    (bills_actions['vote_split']=='requested recorded vote')), 'proponent'] = 'George Miller'"
   ]
  },
  {
   "cell_type": "code",
   "execution_count": 140,
   "metadata": {},
   "outputs": [],
   "source": [
    "bills_actions.loc[(bills_actions['action'].str.contains('david scott',case=False)) & \n",
    "                    ((bills_actions['vote_split']=='requested yeas and nays') | \n",
    "                    (bills_actions['vote_split']=='requested recorded vote')), 'proponent'] = 'David Scott'"
   ]
  },
  {
   "cell_type": "code",
   "execution_count": 141,
   "metadata": {},
   "outputs": [],
   "source": [
    "bills_actions.loc[(bills_actions['action'].str.contains('ben ray lujan',case=False)) & \n",
    "                    ~(bills_actions['action'].str.contains('carter',case=False)) & \n",
    "                    ((bills_actions['vote_split']=='requested yeas and nays') | \n",
    "                    (bills_actions['vote_split']=='requested recorded vote')), 'proponent'] = 'Ben Ray Lujan'"
   ]
  },
  {
   "cell_type": "code",
   "execution_count": 142,
   "metadata": {},
   "outputs": [],
   "source": [
    "bills_actions.loc[(bills_actions['action'].str.contains('gene green',case=False)) & \n",
    "                    ((bills_actions['vote_split']=='requested yeas and nays') | \n",
    "                    (bills_actions['vote_split']=='requested recorded vote')), 'proponent'] = 'Gene Green'"
   ]
  },
  {
   "cell_type": "code",
   "execution_count": 143,
   "metadata": {},
   "outputs": [],
   "source": [
    "bills_actions.loc[(bills_actions['action'].str.contains('austin scott',case=False)) & \n",
    "                    ~(bills_actions['action'].str.contains('lowey',case=False)) & \n",
    "                    ((bills_actions['vote_split']=='requested yeas and nays') | \n",
    "                    (bills_actions['vote_split']=='requested recorded vote')), 'proponent'] = 'Austin Scott'"
   ]
  },
  {
   "cell_type": "code",
   "execution_count": 144,
   "metadata": {},
   "outputs": [],
   "source": [
    "bills_actions.loc[(bills_actions['action'].str.contains('van hollen',case=False)) & \n",
    "                    ((bills_actions['vote_split']=='requested yeas and nays') | \n",
    "                    (bills_actions['vote_split']=='requested recorded vote')), 'proponent'] = 'Van Hollen'"
   ]
  },
  {
   "cell_type": "code",
   "execution_count": 145,
   "metadata": {},
   "outputs": [],
   "source": [
    "bills_actions.loc[(bills_actions['action'].str.contains('Wasserman shultz',case=False)) & \n",
    "                    ((bills_actions['vote_split']=='requested yeas and nays') | \n",
    "                    (bills_actions['vote_split']=='requested recorded vote')), 'proponent'] = 'Wasserman Shultz'"
   ]
  },
  {
   "cell_type": "code",
   "execution_count": 146,
   "metadata": {},
   "outputs": [],
   "source": [
    "bills_actions.loc[(bills_actions['action'].str.contains('Jody B. Hice',case=False)) & \n",
    "                    ((bills_actions['vote_split']=='requested yeas and nays') | \n",
    "                    (bills_actions['vote_split']=='requested recorded vote')), 'proponent'] = 'Jody B. Hice'"
   ]
  },
  {
   "cell_type": "code",
   "execution_count": 147,
   "metadata": {},
   "outputs": [],
   "source": [
    "bills_actions.loc[(bills_actions['action'].str.contains('lincoln diaz-balart',case=False)) & \n",
    "                    ((bills_actions['vote_split']=='requested yeas and nays') | \n",
    "                    (bills_actions['vote_split']=='requested recorded vote')), 'proponent'] = 'Lincoln Diaz-Balart'"
   ]
  },
  {
   "cell_type": "code",
   "execution_count": 148,
   "metadata": {},
   "outputs": [],
   "source": [
    "bills_actions.loc[(bills_actions['action'].str.contains('ginny brown-waite',case=False)) & \n",
    "                    ((bills_actions['vote_split']=='requested yeas and nays') | \n",
    "                    (bills_actions['vote_split']=='requested recorded vote')), 'proponent'] = 'Ginny Brown-Waite'"
   ]
  },
  {
   "cell_type": "code",
   "execution_count": 149,
   "metadata": {},
   "outputs": [],
   "source": [
    "bills_actions.loc[(bills_actions['action'].str.contains('watson coleman',case=False)) & \n",
    "                    ((bills_actions['vote_split']=='requested yeas and nays') | \n",
    "                    (bills_actions['vote_split']=='requested recorded vote')), 'proponent'] = 'Watson Coleman'"
   ]
  },
  {
   "cell_type": "code",
   "execution_count": 150,
   "metadata": {},
   "outputs": [],
   "source": [
    "tp = bills_actions.loc[(bills_actions['proponent'].str.contains('\\(')) & \n",
    "                    (bills_actions['action'].str.contains('Mr')) & \n",
    "                    ((bills_actions['vote_split']=='requested yeas and nays') | \n",
    "                    (bills_actions['vote_split']=='requested recorded vote')), 'action'].copy()\n",
    "\n",
    "bills_actions.loc[(bills_actions['proponent'].str.contains('\\(')) & \n",
    "                    (bills_actions['action'].str.contains('Mr')) & \n",
    "                    ((bills_actions['vote_split']=='requested yeas and nays') | \n",
    "                    (bills_actions['vote_split']=='requested recorded vote')), 'proponent'] = tp.str.split('Mr.', expand=True)[1].str.split('\\(', expand=True)[0].str.replace(' ','', regex=True).str.replace('.','', regex=True).str.replace(',','', regex=True)"
   ]
  },
  {
   "cell_type": "code",
   "execution_count": 151,
   "metadata": {},
   "outputs": [],
   "source": [
    "bills_actions['amendment_sponsor'] = ''"
   ]
  },
  {
   "cell_type": "code",
   "execution_count": 152,
   "metadata": {},
   "outputs": [],
   "source": [
    "tp = bills_actions.loc[(bills_actions['postponed_object']=='amendment') & \n",
    "                    (bills_actions['action'].str.contains('at the conclusion of debate on the',case=False)) & \n",
    "                    ~(bills_actions['action'].str.contains('at the conclusion of debate on the amendment',case=False)), 'action'].copy()\n",
    "\n",
    "bills_actions.loc[(bills_actions['postponed_object']=='amendment') & \n",
    "                    (bills_actions['action'].str.contains('at the conclusion of debate on the',case=False)) & \n",
    "                    ~(bills_actions['action'].str.contains('at the conclusion of debate on the amendment',case=False)), 'amendment_sponsor'] = tp.str.split('the', expand=True)[2].str.split('amendment', expand=True)[0].str.replace('.','', regex=True)"
   ]
  },
  {
   "cell_type": "code",
   "execution_count": 153,
   "metadata": {},
   "outputs": [],
   "source": [
    "tp = bills_actions.loc[(bills_actions['postponed_object']=='amendment') & \n",
    "                    (bills_actions['action'].str.contains('put the question on agreeing to the',case=False)) & \n",
    "                    (bills_actions['action'].str.contains('at the conclusion of debate',case=False)) & \n",
    "                    (bills_actions['amendment_sponsor']==''), 'action'].copy()\n",
    "\n",
    "bills_actions.loc[(bills_actions['postponed_object']=='amendment') & \n",
    "                    (bills_actions['action'].str.contains('put the question on agreeing to the',case=False)) & \n",
    "                    (bills_actions['action'].str.contains('at the conclusion of debate',case=False)) & \n",
    "                    (bills_actions['amendment_sponsor']==''), 'amendment_sponsor'] = tp.str.split('the', expand=True)[4].str.split('amendment', expand=True)[0].str.replace('.','', regex=True)"
   ]
  },
  {
   "cell_type": "code",
   "execution_count": 155,
   "metadata": {},
   "outputs": [],
   "source": [
    "tp = bills_actions.loc[(bills_actions['postponed_object']=='amendment') & \n",
    "                    (bills_actions['action'].str.contains('put the question on agreeing to the',case=False)) & \n",
    "                    ~(bills_actions['action'].str.contains('put the question on agreeing to the amendment',case=False)) & \n",
    "                    ~(bills_actions['action'].str.contains('at the conclusion of debate',case=False)) & \n",
    "                    (bills_actions['action'].str.contains('The Chair')), 'action'].copy()\n",
    "\n",
    "bills_actions.loc[(bills_actions['postponed_object']=='amendment') & \n",
    "                    (bills_actions['action'].str.contains('put the question on agreeing to the',case=False)) & \n",
    "                    ~(bills_actions['action'].str.contains('put the question on agreeing to the amendment',case=False)) & \n",
    "                    ~(bills_actions['action'].str.contains('at the conclusion of debate',case=False)) & \n",
    "                    (bills_actions['action'].str.contains('The Chair')), 'amendment_sponsor'] = tp.str.split('the', expand=True)[2].str.split('amendment', expand=True)[0].str.replace('.','', regex=True)"
   ]
  },
  {
   "cell_type": "code",
   "execution_count": 156,
   "metadata": {},
   "outputs": [],
   "source": [
    "tp = bills_actions.loc[(bills_actions['postponed_object']=='amendment') & \n",
    "                    (bills_actions['action'].str.contains('put the question on the',case=False)) & \n",
    "                    (bills_actions['action'].str.contains('at the conclusion of debate',case=False)) & \n",
    "                    ~(bills_actions['action'].str.contains('at the conclusion of debate on the amendment',case=False)) & \n",
    "                    ~(bills_actions['action'].str.contains('put the question on the amendment',case=False)) & \n",
    "                    (bills_actions['amendment_sponsor']==''), 'action'].copy()\n",
    "\n",
    "bills_actions.loc[(bills_actions['postponed_object']=='amendment') & \n",
    "                    (bills_actions['action'].str.contains('put the question on the',case=False)) & \n",
    "                    (bills_actions['action'].str.contains('at the conclusion of debate',case=False)) & \n",
    "                    ~(bills_actions['action'].str.contains('at the conclusion of debate on the amendment',case=False)) & \n",
    "                    ~(bills_actions['action'].str.contains('put the question on the amendment',case=False)) & \n",
    "                    (bills_actions['amendment_sponsor']==''), 'amendment_sponsor'] = tp.str.split('the', expand=True)[4].str.split('amendment', expand=True)[0].str.replace('.','', regex=True)"
   ]
  },
  {
   "cell_type": "code",
   "execution_count": 162,
   "metadata": {},
   "outputs": [],
   "source": [
    "bills_actions.loc[(bills_actions['action'].str.contains('on motion to suspend',case=False)) & \n",
    "                    ((bills_actions['action'].str.contains('bill',case=False)) | \n",
    "                    (bills_actions['action'].str.contains('resolution',case=False))), 'final_vote'] = 'house'"
   ]
  },
  {
   "cell_type": "code",
   "execution_count": 165,
   "metadata": {},
   "outputs": [],
   "source": [
    "bills_actions.loc[(bills_actions['bill_chamber'] == 'Empty') & \n",
    "                    (bills_actions['main_action'].str.contains('senate', case=False)), 'bill_chamber'] = 'Senate'"
   ]
  },
  {
   "cell_type": "code",
   "execution_count": 166,
   "metadata": {},
   "outputs": [],
   "source": [
    "bills_actions.loc[(bills_actions['bill_chamber'] == 'Empty') & \n",
    "                    (bills_actions['main_action'].str.contains('house', case=False)), 'bill_chamber'] = 'House'"
   ]
  },
  {
   "cell_type": "markdown",
   "metadata": {},
   "source": [
    "## Match the Official categories codes and aggregation"
   ]
  },
  {
   "cell_type": "code",
   "execution_count": null,
   "metadata": {},
   "outputs": [],
   "source": [
    "import pandas as pd\n",
    "\n",
    "path = '/Users/zeouwei/OneDrive/compleglab 2/data/us_data'\n",
    "\n",
    "official = pd.read_csv(path+'/final/official_categories.csv')\n",
    "actions_text = pd.read_csv(path+'/action_analysis_interm/bills_actions_categories_text.csv', low_memory=False)"
   ]
  },
  {
   "cell_type": "code",
   "execution_count": null,
   "metadata": {},
   "outputs": [],
   "source": [
    "bills_actions = bills_actions.merge(official, left_on='main_action', right_on = 'official_action', how= 'left')"
   ]
  },
  {
   "cell_type": "code",
   "execution_count": null,
   "metadata": {},
   "outputs": [],
   "source": [
    "bills_actions.to_csv(path+'/action_analysis_interm/bills_actions_categories.csv', index=False)"
   ]
  }
 ],
 "metadata": {
  "kernelspec": {
   "display_name": "Python 3.9.7",
   "language": "python",
   "name": "python3"
  },
  "language_info": {
   "codemirror_mode": {
    "name": "ipython",
    "version": 3
   },
   "file_extension": ".py",
   "mimetype": "text/x-python",
   "name": "python",
   "nbconvert_exporter": "python",
   "pygments_lexer": "ipython3",
   "version": "3.9.7"
  },
  "orig_nbformat": 4,
  "vscode": {
   "interpreter": {
    "hash": "b12bb38538bb619fea16ae99132b2732707b54879412322b8ee70e3e4d43aca7"
   }
  }
 },
 "nbformat": 4,
 "nbformat_minor": 2
}
