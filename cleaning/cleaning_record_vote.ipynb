{
 "cells": [
  {
   "cell_type": "code",
   "execution_count": null,
   "metadata": {},
   "outputs": [],
   "source": [
    "import pandas as pd\n",
    "import numpy as np\n",
    "import os\n",
    "path = '/Users/zeouwei/OneDrive/compleglab 2/data/us_data'"
   ]
  },
  {
   "cell_type": "code",
   "execution_count": null,
   "metadata": {},
   "outputs": [],
   "source": [
    "def get_bill_number(string):\n",
    "    bnum = ''\n",
    "    for c in string:\n",
    "        if c.isdigit():\n",
    "            bnum += c\n",
    "    return int(bnum)\n",
    "\n",
    "def get_bill_type(string):\n",
    "    type = ''\n",
    "    for c in string:\n",
    "        if c.isdigit():\n",
    "            break\n",
    "        type += c\n",
    "    return type\n",
    "\n",
    "def extract_bill_version(string):\n",
    "    n = get_bill_number(string) \n",
    "    t = get_bill_type(string)\n",
    "    version = string.replace(str(n), '')\n",
    "    if version[0]=='s':\n",
    "        version = version.replace(str(t), '', 1)\n",
    "    else:\n",
    "        version = version.replace(str(t), '')\n",
    "    return version"
   ]
  },
  {
   "cell_type": "code",
   "execution_count": null,
   "metadata": {},
   "outputs": [],
   "source": [
    "votes_files = os.listdir(path+'/scraped/gov_api/recorded_votes')\n",
    "votes = pd.DataFrame()\n",
    "for file in votes_files:\n",
    "        vote = pd.read_csv(path + '/scraped/gov_api/recorded_votes/' + file)\n",
    "        votes = pd.concat([votes, vote])"
   ]
  },
  {
   "cell_type": "code",
   "execution_count": null,
   "metadata": {},
   "outputs": [],
   "source": [
    "votes['bill_number'] = votes['package_id'].str[9:].apply(get_bill_number)\n",
    "votes['bill_type'] = votes['package_id'].str[9:].apply(get_bill_type)\n",
    "votes['bill_version'] = votes['package_id'].str[9:].apply(extract_bill_version)\n",
    "votes = votes.drop(columns='package_id')"
   ]
  },
  {
   "cell_type": "code",
   "execution_count": null,
   "metadata": {},
   "outputs": [],
   "source": [
    "votes.to_csv(path+'/final/rol_call_votes_bills_actions.csv', index=False)"
   ]
  }
 ],
 "metadata": {
  "language_info": {
   "name": "python"
  },
  "orig_nbformat": 4
 },
 "nbformat": 4,
 "nbformat_minor": 2
}
