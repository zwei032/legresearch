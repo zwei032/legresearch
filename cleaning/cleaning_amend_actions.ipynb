{
 "cells": [
  {
   "cell_type": "code",
   "execution_count": null,
   "metadata": {},
   "outputs": [],
   "source": [
    "import pandas as pd\n",
    "import os\n",
    "path = '/Users/zeouwei/OneDrive/compleglab 2/data/us_data'"
   ]
  },
  {
   "cell_type": "code",
   "execution_count": null,
   "metadata": {},
   "outputs": [],
   "source": [
    "def get_bill_number(string):\n",
    "    bnum = ''\n",
    "    for c in string:\n",
    "        if c.isdigit():\n",
    "            bnum += c\n",
    "    return int(bnum)\n",
    "\n",
    "def get_bill_type(string):\n",
    "    type = ''\n",
    "    for c in string:\n",
    "        if c.isdigit():\n",
    "            break\n",
    "        type += c\n",
    "    return type\n",
    "\n",
    "def extract_bill_version(string):\n",
    "    n = get_bill_number(string) \n",
    "    t = get_bill_type(string)\n",
    "    version = string.replace(str(n), '')\n",
    "    if version[0]=='s':\n",
    "        version = version.replace(str(t), '', 1)\n",
    "    else:\n",
    "        version = version.replace(str(t), '')\n",
    "    return version"
   ]
  },
  {
   "cell_type": "code",
   "execution_count": null,
   "metadata": {},
   "outputs": [],
   "source": [
    "amnt_files = os.listdir(path+'/scraped/gov_api/amendments')\n",
    "actions = pd.DataFrame()\n",
    "for file in amnt_files:\n",
    "    if 'amendment_actions' in file:\n",
    "        action = pd.read_csv(path + '/scraped/gov_api/amendments/' + file)\n",
    "        actions = pd.concat([actions, action])"
   ]
  },
  {
   "cell_type": "code",
   "execution_count": null,
   "metadata": {},
   "outputs": [],
   "source": [
    "actions['congress'] = actions['package_id'].str[6:9].astype(int)\n",
    "actions['bill_number'] = actions['package_id'].str[9:].apply(get_bill_number)\n",
    "actions['bill_type'] = actions['package_id'].str[9:].apply(get_bill_type)\n",
    "actions['bill_version'] = actions['package_id'].str[9:].apply(extract_bill_version)\n",
    "actions = actions.drop(columns='package_id')"
   ]
  },
  {
   "cell_type": "code",
   "execution_count": null,
   "metadata": {},
   "outputs": [],
   "source": [
    "actions.to_csv(path+'/final/amendments_actions.csv', index=False)"
   ]
  }
 ],
 "metadata": {
  "language_info": {
   "name": "python"
  },
  "orig_nbformat": 4
 },
 "nbformat": 4,
 "nbformat_minor": 2
}
